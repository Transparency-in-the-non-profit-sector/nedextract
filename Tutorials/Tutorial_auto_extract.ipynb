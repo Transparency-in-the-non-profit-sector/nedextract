{
 "cells": [
  {
   "cell_type": "markdown",
   "metadata": {},
   "source": [
    "# Auto extract use case example"
   ]
  },
  {
   "cell_type": "markdown",
   "metadata": {},
   "source": [
    "In this tutorial we will analyse a pdf file using all the different options that auto_extract offers. As a test case we will be looking at the fictive annual report './Data/Jaarverslag_Bedrijf.pdf'.\n",
    "The file fulfills the following requirements:\n",
    "\n",
    "- the file is machine readable (does not have to be analysed using OCR)\n",
    "- the file is written in Dutch\n",
    "- the orgasnisation (and hence the annual report) is not part of the data that we will use to train the model for the sector identification."
   ]
  },
  {
   "cell_type": "markdown",
   "metadata": {},
   "source": [
    "#### Clone the auto_extract repository and install the requirements"
   ]
  },
  {
   "cell_type": "code",
   "execution_count": 1,
   "metadata": {},
   "outputs": [
    {
     "name": "stderr",
     "output_type": "stream",
     "text": [
      "/Users/lootes/miniconda3/envs/tnps/lib/python3.11/site-packages/fuzzywuzzy/fuzz.py:11: UserWarning: Using slow pure-python SequenceMatcher. Install python-Levenshtein to remove this warning\n",
      "  warnings.warn('Using slow pure-python SequenceMatcher. Install python-Levenshtein to remove this warning')\n"
     ]
    }
   ],
   "source": [
    "%matplotlib inline\n",
    "import sys\n",
    "sys.path.append('../')\n",
    "from nedextract import run_nedextract"
   ]
  },
  {
   "cell_type": "markdown",
   "metadata": {},
   "source": [
    "We will be working with the annual report of a fictive organisation called 'Bedrijf'. A pdf annual report is saved in the directory 'Data'"
   ]
  },
  {
   "cell_type": "code",
   "execution_count": 15,
   "metadata": {},
   "outputs": [],
   "source": [
    "file = 'Data/Jaarverslag_Bedrijf.pdf'"
   ]
  },
  {
   "cell_type": "code",
   "execution_count": 16,
   "metadata": {},
   "outputs": [],
   "source": [
    "from os.path import exists\n",
    "\n",
    "file_exists = exists(file)"
   ]
  },
  {
   "cell_type": "code",
   "execution_count": 17,
   "metadata": {},
   "outputs": [
    {
     "name": "stdout",
     "output_type": "stream",
     "text": [
      "Help on function run in module nedextract.run_nedextract:\n",
      "\n",
      "run(dir=None, file=None, url=None, urlf=None, tasks=['all'], anbis=None, model=None, labels=None, vectors=None, write_output=False)\n",
      "    Annual report information extraction.\n",
      "    \n",
      "    This program is designed to read Dutch annual report pdf files from non-profit organisation.\n",
      "    and extract relevant information.\n",
      "    \n",
      "    The following general steps are taken:\n",
      "    - Read in the pdf files(s) and preprocess the text.\n",
      "    - (optional) Extract mentioned people from the text and identify their position within the organisation.\n",
      "      Which of the people named in the text can be found to likely hold any of the positions of board members (directors,\n",
      "      bestuur, raad van toezicht, kascommissie, controlecommissie, edenraad), or ambassadors\n",
      "    - (optional) Extract mentioned organisations in the text\n",
      "    - (optional) Classify the sector in which the organisation is active.\n",
      "    - The gathered information is converted into structured output in the form of an Excel file.\n",
      "\n"
     ]
    }
   ],
   "source": [
    "help(run_nedextract.run)"
   ]
  },
  {
   "cell_type": "code",
   "execution_count": 20,
   "metadata": {},
   "outputs": [
    {
     "name": "stderr",
     "output_type": "stream",
     "text": [
      "2023-08-23 16:29:08 INFO: Checking for updates to resources.json in case models have been updated.  Note: this behavior can be turned off with download_method=None or download_method=DownloadMethod.REUSE_RESOURCES\n"
     ]
    },
    {
     "name": "stdout",
     "output_type": "stream",
     "text": [
      "2023-08-23 16:29:08 Working on file: /Users/lootes/Documenten/Projects/Transparency_in_the_Dutch_non-profit_sector/np-transparency/Tutorials/Data/Jaarverslag_Bedrijf.pdf\n"
     ]
    },
    {
     "data": {
      "application/vnd.jupyter.widget-view+json": {
       "model_id": "c5fde9a0e8fe45e19c58c288d0cfa68f",
       "version_major": 2,
       "version_minor": 0
      },
      "text/plain": [
       "Downloading https://raw.githubusercontent.com/stanfordnlp/stanza-resources/main/resources_1.5.0.json:   0%|   …"
      ]
     },
     "metadata": {},
     "output_type": "display_data"
    },
    {
     "name": "stderr",
     "output_type": "stream",
     "text": [
      "2023-08-23 16:29:08 INFO: Loading these models for language: nl (Dutch):\n",
      "=======================\n",
      "| Processor | Package |\n",
      "-----------------------\n",
      "| tokenize  | alpino  |\n",
      "| ner       | conll02 |\n",
      "=======================\n",
      "\n",
      "2023-08-23 16:29:08 INFO: Using device: cpu\n",
      "2023-08-23 16:29:08 INFO: Loading: tokenize\n",
      "2023-08-23 16:29:08 INFO: Loading: ner\n",
      "2023-08-23 16:29:09 INFO: Done loading processors!\n"
     ]
    },
    {
     "name": "stdout",
     "output_type": "stream",
     "text": [
      "2023-08-23 16:29:10 Finished file: /Users/lootes/Documenten/Projects/Transparency_in_the_Dutch_non-profit_sector/np-transparency/Tutorials/Data/Jaarverslag_Bedrijf.pdf\n"
     ]
    },
    {
     "ename": "ValueError",
     "evalue": "The truth value of an array with more than one element is ambiguous. Use a.any() or a.all()",
     "output_type": "error",
     "traceback": [
      "\u001b[0;31m---------------------------------------------------------------------------\u001b[0m",
      "\u001b[0;31mValueError\u001b[0m                                Traceback (most recent call last)",
      "Cell \u001b[0;32mIn[20], line 1\u001b[0m\n\u001b[0;32m----> 1\u001b[0m run_nedextract\u001b[39m.\u001b[39mrun(file\u001b[39m=\u001b[39mfile, tasks\u001b[39m=\u001b[39m[\u001b[39m'\u001b[39m\u001b[39mpeople\u001b[39m\u001b[39m'\u001b[39m])\n",
      "File \u001b[0;32m~/Documenten/Projects/Transparency_in_the_Dutch_non-profit_sector/np-transparency/Tutorials/../nedextract/run_nedextract.py:112\u001b[0m, in \u001b[0;36mrun\u001b[0;34m(dir, file, url, urlf, tasks, anbis, model, labels, vectors, write_output)\u001b[0m\n\u001b[1;32m    109\u001b[0m         opd_p, opd_g, opd_o \u001b[39m=\u001b[39m pdf_extractor\u001b[39m.\u001b[39mextract_pdf(infile, opd_p, opd_g, opd_o, anbis)\n\u001b[1;32m    110\u001b[0m         delete_downloaded_pdf()\n\u001b[0;32m--> 112\u001b[0m df_p, df_g, df_o \u001b[39m=\u001b[39m output_to_df(opd_p, opd_g, opd_o)\n\u001b[1;32m    113\u001b[0m \u001b[39m# Write output to files\u001b[39;00m\n\u001b[1;32m    114\u001b[0m \u001b[39mif\u001b[39;00m write_output:\n",
      "File \u001b[0;32m~/Documenten/Projects/Transparency_in_the_Dutch_non-profit_sector/np-transparency/Tutorials/../nedextract/run_nedextract.py:130\u001b[0m, in \u001b[0;36moutput_to_df\u001b[0;34m(opd_p, opd_g, opd_o, anbis_file)\u001b[0m\n\u001b[1;32m    123\u001b[0m \u001b[39mdef\u001b[39;00m \u001b[39moutput_to_df\u001b[39m(opd_p\u001b[39m=\u001b[39m\u001b[39mNone\u001b[39;00m, opd_g\u001b[39m=\u001b[39m\u001b[39mNone\u001b[39;00m, opd_o\u001b[39m=\u001b[39m\u001b[39mNone\u001b[39;00m, anbis_file\u001b[39m=\u001b[39m\u001b[39mNone\u001b[39;00m):\n\u001b[1;32m    124\u001b[0m \u001b[39m    \u001b[39m\u001b[39m\"\"\"\u001b[39;00m\n\u001b[1;32m    125\u001b[0m \n\u001b[1;32m    126\u001b[0m \u001b[39m    Input\u001b[39;00m\n\u001b[1;32m    127\u001b[0m \n\u001b[1;32m    128\u001b[0m \u001b[39m    Returns\u001b[39;00m\n\u001b[1;32m    129\u001b[0m \u001b[39m    \"\"\"\u001b[39;00m\n\u001b[0;32m--> 130\u001b[0m     \u001b[39mif\u001b[39;00m opd_p:\n\u001b[1;32m    131\u001b[0m         cols_p \u001b[39m=\u001b[39m [\u001b[39m'\u001b[39m\u001b[39mInput_file\u001b[39m\u001b[39m'\u001b[39m, \u001b[39m'\u001b[39m\u001b[39mOrganization\u001b[39m\u001b[39m'\u001b[39m, \u001b[39m'\u001b[39m\u001b[39mPersons\u001b[39m\u001b[39m'\u001b[39m, \u001b[39m'\u001b[39m\u001b[39mAmbassadors\u001b[39m\u001b[39m'\u001b[39m,\n\u001b[1;32m    132\u001b[0m                   \u001b[39m'\u001b[39m\u001b[39mBoard_members\u001b[39m\u001b[39m'\u001b[39m, \u001b[39m'\u001b[39m\u001b[39mJob_description\u001b[39m\u001b[39m'\u001b[39m]\n\u001b[1;32m    133\u001b[0m         cols_p\u001b[39m.\u001b[39mextend([\u001b[39mf\u001b[39m\u001b[39m'\u001b[39m\u001b[39mdirecteur\u001b[39m\u001b[39m{\u001b[39;00mn\u001b[39m}\u001b[39;00m\u001b[39m'\u001b[39m \u001b[39mfor\u001b[39;00m n \u001b[39min\u001b[39;00m \u001b[39mrange\u001b[39m(\u001b[39m1\u001b[39m, \u001b[39m6\u001b[39m)])\n",
      "\u001b[0;31mValueError\u001b[0m: The truth value of an array with more than one element is ambiguous. Use a.any() or a.all()"
     ]
    }
   ],
   "source": [
    "run_nedextract.run(file=file, tasks=['people'])"
   ]
  },
  {
   "cell_type": "code",
   "execution_count": 16,
   "metadata": {},
   "outputs": [
    {
     "name": "stderr",
     "output_type": "stream",
     "text": [
      "/opt/homebrew/lib/python3.11/site-packages/tqdm/auto.py:21: TqdmWarning: IProgress not found. Please update jupyter and ipywidgets. See https://ipywidgets.readthedocs.io/en/stable/user_install.html\n",
      "  from .autonotebook import tqdm as notebook_tqdm\n"
     ]
    }
   ],
   "source": [
    "import stanza"
   ]
  },
  {
   "cell_type": "code",
   "execution_count": 1,
   "metadata": {},
   "outputs": [
    {
     "name": "stdout",
     "output_type": "stream",
     "text": [
      "3.9.10\n"
     ]
    }
   ],
   "source": [
    "from platform import python_version\n",
    "\n",
    "print(python_version())"
   ]
  },
  {
   "cell_type": "code",
   "execution_count": 2,
   "metadata": {},
   "outputs": [
    {
     "name": "stdout",
     "output_type": "stream",
     "text": [
      "Package                   Version     Editable project location\n",
      "------------------------- ----------- ----------------------------------------\n",
      "absl-py                   1.3.0\n",
      "altair                    4.2.2\n",
      "ansi2html                 1.8.0\n",
      "appnope                   0.1.3\n",
      "argcomplete               1.10.3\n",
      "argon2-cffi               21.3.0\n",
      "argon2-cffi-bindings      21.2.0\n",
      "arrow                     1.2.3\n",
      "astroid                   2.11.2\n",
      "asttokens                 2.0.5\n",
      "astunparse                1.6.3\n",
      "attrs                     21.4.0\n",
      "auto-extract              0.0.1\n",
      "backcall                  0.2.0\n",
      "backoff                   1.11.1\n",
      "bcrypt                    4.0.1\n",
      "beautifulsoup4            4.8.2\n",
      "binaryornot               0.4.4\n",
      "biopython                 1.79\n",
      "bleach                    5.0.1\n",
      "blinker                   1.6.1\n",
      "blis                      0.7.8\n",
      "bump2version              1.0.1\n",
      "cachelib                  0.9.0\n",
      "cachetools                5.2.1\n",
      "catalogue                 2.0.8\n",
      "certifi                   2021.10.8\n",
      "cffi                      1.15.1\n",
      "cfgv                      3.3.1\n",
      "chardet                   3.0.4\n",
      "charset-normalizer        2.0.12\n",
      "chart-studio              1.1.0\n",
      "click                     7.1.2\n",
      "cloudpickle               2.2.0\n",
      "colorama                  0.4.4\n",
      "coloredlogs               15.0.1\n",
      "colour                    0.1.5\n",
      "compressed-rtf            1.0.6\n",
      "confection                0.0.2\n",
      "cookiecutter              2.1.1\n",
      "coverage                  6.3.2\n",
      "cycler                    0.11.0\n",
      "cymem                     2.0.6\n",
      "dash                      2.7.1\n",
      "dash-bio                  1.0.2\n",
      "dash-bootstrap-components 1.4.0\n",
      "dash-core-components      2.0.0\n",
      "dash-html-components      2.0.0\n",
      "dash-table                5.0.0\n",
      "DateTime                  4.4\n",
      "debugpy                   1.6.3\n",
      "decorator                 5.1.1\n",
      "deeprank                  0.2.1\n",
      "DeepRank-GNN              0.1.22\n",
      "defusedxml                0.7.1\n",
      "dianna                    0.9.0       /Users/lootes/Documenten/Projects/dianna\n",
      "dill                      0.3.5.1\n",
      "distlib                   0.3.6\n",
      "dm-tree                   0.1.8\n",
      "docutils                  0.16\n",
      "docx2txt                  0.8\n",
      "dodgy                     0.2.1\n",
      "ebcdic                    1.1.1\n",
      "elastic-transport         8.4.0\n",
      "elasticsearch             8.8.2\n",
      "emoji                     1.7.0\n",
      "en-core-web-md            3.3.0\n",
      "en-core-web-sm            3.4.1\n",
      "entrypoints               0.4\n",
      "et-xmlfile                1.1.0\n",
      "executing                 0.8.3\n",
      "extract-msg               0.28.7\n",
      "fastdtw                   0.3.4\n",
      "fastjsonschema            2.16.1\n",
      "filelock                  3.6.0\n",
      "flake8                    4.0.1\n",
      "flake8-polyfill           1.0.2\n",
      "Flask                     2.0.3\n",
      "Flask-Bcrypt              1.0.1\n",
      "Flask-Caching             2.0.1\n",
      "Flask-Markdown            0.3\n",
      "flatbuffers               1.12\n",
      "fonttools                 4.33.3\n",
      "freesasa                  2.1.0\n",
      "fuzzywuzzy                0.18.0\n",
      "gast                      0.4.0\n",
      "gensim                    4.0.0\n",
      "GEOparse                  2.0.3\n",
      "gitdb                     4.0.10\n",
      "github3.py                1.0.0a4\n",
      "GitPython                 3.1.31\n",
      "google-auth               2.16.0\n",
      "google-auth-oauthlib      0.4.6\n",
      "google-pasta              0.2.0\n",
      "graphviz                  0.20\n",
      "greenlet                  2.0.1\n",
      "h5py                      3.7.0\n",
      "howfairis                 0.14.2\n",
      "html2image                2.0.1\n",
      "huggingface-hub           0.5.1\n",
      "humanfriendly             10.0\n",
      "icecream                  2.1.2\n",
      "identify                  2.5.24\n",
      "idna                      3.3\n",
      "imageio                   2.22.0\n",
      "IMAPClient                2.1.0\n",
      "importlib-metadata        6.0.0\n",
      "importlib-resources       5.12.0\n",
      "iniconfig                 1.1.1\n",
      "ipykernel                 6.15.1\n",
      "ipympl                    0.9.3\n",
      "ipython                   8.3.0\n",
      "ipython-genutils          0.2.0\n",
      "ipywidgets                7.7.5\n",
      "isort                     5.10.1\n",
      "itsdangerous              2.1.2\n",
      "jedi                      0.18.1\n",
      "Jinja2                    3.1.2\n",
      "jinja2-time               0.2.0\n",
      "joblib                    1.1.0\n",
      "jsonschema                4.12.1\n",
      "jupyter                   1.0.0\n",
      "jupyter-client            7.3.4\n",
      "jupyter-console           6.4.4\n",
      "jupyter-core              4.11.1\n",
      "jupyter-dash              0.4.2\n",
      "jupyterlab-pygments       0.2.2\n",
      "jupyterlab-widgets        1.1.4\n",
      "kdmt                      0.9.957\n",
      "keras                     2.9.0\n",
      "Keras-Preprocessing       1.1.2\n",
      "kiwisolver                1.4.2\n",
      "langcodes                 3.3.0\n",
      "langdetect                1.0.9\n",
      "lazy-object-proxy         1.7.1\n",
      "libclang                  15.0.6.1\n",
      "lime                      0.2.0.1\n",
      "line-profiler             3.4.0\n",
      "llvmlite                  0.39.1\n",
      "lxml                      4.8.0\n",
      "Markdown                  3.4.1\n",
      "markdown-it-py            2.2.0\n",
      "markov-clustering         0.0.6.dev0\n",
      "MarkupSafe                2.1.1\n",
      "matplotlib                3.5.2\n",
      "matplotlib-inline         0.1.3\n",
      "mccabe                    0.6.1\n",
      "mdurl                     0.1.2\n",
      "mistune                   0.8.4\n",
      "mpi4py                    3.1.4\n",
      "mpmath                    1.2.1\n",
      "multiprocess              0.70.13\n",
      "murmurhash                1.0.7\n",
      "nbclient                  0.6.6\n",
      "nbconvert                 6.5.3\n",
      "nbformat                  5.4.0\n",
      "nest-asyncio              1.5.5\n",
      "networkx                  2.8.2\n",
      "nglview                   3.0.3\n",
      "nltk                      3.7\n",
      "nodeenv                   1.7.0\n",
      "notebook                  6.4.12\n",
      "numba                     0.56.2\n",
      "numpy                     1.23.0\n",
      "oauthlib                  3.2.2\n",
      "olefile                   0.46\n",
      "onnx                      1.13.0\n",
      "onnx-tf                   1.10.0\n",
      "onnxruntime               1.12.1\n",
      "openpyxl                  3.0.9\n",
      "opt-einsum                3.3.0\n",
      "packaging                 21.3\n",
      "pandas                    1.4.2\n",
      "pandocfilters             1.5.0\n",
      "ParmEd                    4.0.0\n",
      "parso                     0.8.3\n",
      "pathy                     0.6.1\n",
      "pdb2sql                   0.5.1\n",
      "pdfminer                  20191125\n",
      "pdfminer.six              20191110\n",
      "pdftotext                 2.2.2\n",
      "pengines                  0.1.8\n",
      "pep8-naming               0.10.0\n",
      "periodictable             1.6.1\n",
      "pexpect                   4.8.0\n",
      "pickleshare               0.7.5\n",
      "Pillow                    9.0.1\n",
      "pip                       23.2.1\n",
      "plac                      1.1.3\n",
      "platformdirs              2.5.1\n",
      "playwright                1.33.0\n",
      "plotly                    5.8.2\n",
      "pluggy                    1.0.0\n",
      "poppdf                    0.17.8\n",
      "pre-commit                3.3.1\n",
      "preshed                   3.0.6\n",
      "prometheus-client         0.14.1\n",
      "prompt-toolkit            3.0.29\n",
      "prospector                1.7.7\n",
      "protobuf                  3.20.3\n",
      "psutil                    5.9.1\n",
      "ptyprocess                0.7.0\n",
      "pure-eval                 0.2.2\n",
      "py                        1.11.0\n",
      "pyarrow                   11.0.0\n",
      "pyasn1                    0.4.8\n",
      "pyasn1-modules            0.2.8\n",
      "pycodestyle               2.8.0\n",
      "pycparser                 2.21\n",
      "pycryptodome              3.14.1\n",
      "pydantic                  1.8.2\n",
      "pydeck                    0.8.0\n",
      "pydocstyle                6.1.1\n",
      "pyee                      9.0.4\n",
      "pyemd                     0.5.1\n",
      "pyflakes                  2.4.0\n",
      "Pygments                  2.15.0\n",
      "pylint                    2.13.2\n",
      "pylint-celery             0.3\n",
      "pylint-django             2.5.3\n",
      "pylint-flask              0.6\n",
      "pylint-plugin-utils       0.7\n",
      "Pympler                   1.0.1\n",
      "PyMySQL                   1.0.2\n",
      "pyparsing                 3.0.7\n",
      "pyroma                    3.3\n",
      "pyrsistent                0.18.1\n",
      "pytesseract               0.3.10\n",
      "pytest                    7.1.1\n",
      "pytest-base-url           2.0.0\n",
      "pytest-cov                3.0.0\n",
      "pytest-mock               3.7.0\n",
      "pytest-playwright         0.3.3\n",
      "pytextrank                3.2.4\n",
      "python-dateutil           2.8.2\n",
      "python-Levenshtein        0.12.2\n",
      "python-louvain            0.16\n",
      "python-pptx               0.6.21\n",
      "python-slugify            8.0.1\n",
      "pytz                      2021.3\n",
      "pytz-deprecation-shim     0.1.0.post0\n",
      "PyWavelets                1.4.1\n",
      "PyYAML                    6.0\n",
      "pyzmq                     23.2.1\n",
      "qtconsole                 5.3.2\n",
      "QtPy                      2.2.0\n",
      "ratelimit                 2.2.1\n",
      "regex                     2022.3.15\n",
      "requests                  2.27.1\n",
      "requests-oauthlib         1.3.1\n",
      "requirements-detector     0.7\n",
      "retrying                  1.3.3\n",
      "rich                      13.3.3\n",
      "rsa                       4.9\n",
      "ruamel.yaml               0.16.13\n",
      "ruamel.yaml.clib          0.2.7\n",
      "run-auto-extract          0.0.1\n",
      "sacremoses                0.0.49\n",
      "scikit-image              0.19.1\n",
      "scikit-learn              1.0.2\n",
      "scipy                     1.8.0\n",
      "semantic-version          2.9.0\n",
      "Send2Trash                1.8.0\n",
      "setoptconf-tmp            0.3.1\n",
      "setuptools                58.1.0\n",
      "setuptools-rust           1.2.0\n",
      "shap                      0.41.0\n",
      "six                       1.15.0\n",
      "sklearn                   0.0\n",
      "slicer                    0.0.7\n",
      "smart-open                5.2.1\n",
      "smmap                     5.0.0\n",
      "snowballstemmer           2.2.0\n",
      "sortedcontainers          2.4.0\n",
      "soupsieve                 2.3.1\n",
      "spacy                     3.4.3\n",
      "spacy-legacy              3.0.10\n",
      "spacy-loggers             1.0.2\n",
      "spacy-readability         1.4.1\n",
      "SpeechRecognition         3.8.1\n",
      "srsly                     2.4.5\n",
      "stack-data                0.2.0\n",
      "stanza                    1.3.0\n",
      "streamlit                 1.21.0\n",
      "syllapy                   0.7.1\n",
      "sympy                     1.11.1\n",
      "tenacity                  8.0.1\n",
      "tensorboard               2.9.1\n",
      "tensorboard-data-server   0.6.1\n",
      "tensorboard-plugin-wit    1.8.1\n",
      "tensorflow-addons         0.19.0\n",
      "tensorflow-estimator      2.9.0\n",
      "tensorflow-macos          2.9.0\n",
      "tensorflow-metal          0.5.0\n",
      "tensorflow-probability    0.17.0\n",
      "termcolor                 2.2.0\n",
      "terminado                 0.15.0\n",
      "text-unidecode            1.3\n",
      "textract                  1.6.5\n",
      "thinc                     8.1.5\n",
      "threadpoolctl             3.1.0\n",
      "tifffile                  2022.8.12\n",
      "tinycss2                  1.1.1\n",
      "tokenizers                0.12.1\n",
      "toml                      0.10.2\n",
      "tomli                     2.0.1\n",
      "toolz                     0.12.0\n",
      "torch                     1.10.2\n",
      "torch-cluster             1.6.0\n",
      "torch-geometric           2.0.4\n",
      "torch-scatter             2.0.9\n",
      "torch-sparse              0.6.13\n",
      "torch-spline-conv         1.2.1\n",
      "torchaudio                0.10.2\n",
      "torchsummary              1.5.1\n",
      "torchtext                 0.11.2\n",
      "torchvision               0.11.3\n",
      "tornado                   6.2\n",
      "tqdm                      4.63.0\n",
      "traitlets                 5.3.0\n",
      "transformers              4.18.0\n",
      "typeguard                 2.13.3\n",
      "typer                     0.4.1\n",
      "typing_extensions         4.5.0\n",
      "tzdata                    2021.5\n",
      "tzlocal                   4.1\n",
      "ujson                     1.35\n",
      "uritemplate               4.1.1\n",
      "uritemplate.py            3.0.2\n",
      "urllib3                   1.26.8\n",
      "validators                0.20.0\n",
      "virtualenv                20.21.0\n",
      "voluptuous                0.11.7\n",
      "wasabi                    0.9.1\n",
      "wcwidth                   0.2.5\n",
      "webencodings              0.5.1\n",
      "Werkzeug                  2.2.2\n",
      "wheel                     0.37.1\n",
      "widgetsnbextension        3.6.4\n",
      "wrapt                     1.14.0\n",
      "xarray                    2022.12.0\n",
      "xlrd                      1.2.0\n",
      "XlsxWriter                3.0.3\n",
      "zipp                      3.11.0\n",
      "zope.interface            5.4.0\n",
      "Note: you may need to restart the kernel to use updated packages.\n"
     ]
    }
   ],
   "source": [
    "pip list"
   ]
  },
  {
   "cell_type": "code",
   "execution_count": 3,
   "metadata": {},
   "outputs": [
    {
     "ename": "ValueError",
     "evalue": "The python kernel does not appear to be a conda environment.  Please use ``%pip install`` instead.",
     "output_type": "error",
     "traceback": [
      "\u001b[0;31m---------------------------------------------------------------------------\u001b[0m",
      "\u001b[0;31mValueError\u001b[0m                                Traceback (most recent call last)",
      "\u001b[1;32m/Users/lootes/Documenten/Projects/Transparency_in_the_Dutch_non-profit_sector/np-transparency/Tutorials/Tutorial_auto_extract.ipynb Cell 11\u001b[0m in \u001b[0;36m<cell line: 1>\u001b[0;34m()\u001b[0m\n\u001b[0;32m----> <a href='vscode-notebook-cell:/Users/lootes/Documenten/Projects/Transparency_in_the_Dutch_non-profit_sector/np-transparency/Tutorials/Tutorial_auto_extract.ipynb#X13sZmlsZQ%3D%3D?line=0'>1</a>\u001b[0m get_ipython()\u001b[39m.\u001b[39;49mrun_line_magic(\u001b[39m'\u001b[39;49m\u001b[39mconda\u001b[39;49m\u001b[39m'\u001b[39;49m, \u001b[39m'\u001b[39;49m\u001b[39menv list\u001b[39;49m\u001b[39m'\u001b[39;49m)\n",
      "File \u001b[0;32m/Library/Frameworks/Python.framework/Versions/3.9/lib/python3.9/site-packages/IPython/core/interactiveshell.py:2304\u001b[0m, in \u001b[0;36mInteractiveShell.run_line_magic\u001b[0;34m(self, magic_name, line, _stack_depth)\u001b[0m\n\u001b[1;32m   2302\u001b[0m     kwargs[\u001b[39m'\u001b[39m\u001b[39mlocal_ns\u001b[39m\u001b[39m'\u001b[39m] \u001b[39m=\u001b[39m \u001b[39mself\u001b[39m\u001b[39m.\u001b[39mget_local_scope(stack_depth)\n\u001b[1;32m   2303\u001b[0m \u001b[39mwith\u001b[39;00m \u001b[39mself\u001b[39m\u001b[39m.\u001b[39mbuiltin_trap:\n\u001b[0;32m-> 2304\u001b[0m     result \u001b[39m=\u001b[39m fn(\u001b[39m*\u001b[39;49margs, \u001b[39m*\u001b[39;49m\u001b[39m*\u001b[39;49mkwargs)\n\u001b[1;32m   2305\u001b[0m \u001b[39mreturn\u001b[39;00m result\n",
      "File \u001b[0;32m/Library/Frameworks/Python.framework/Versions/3.9/lib/python3.9/site-packages/IPython/core/magics/packaging.py:87\u001b[0m, in \u001b[0;36mPackagingMagics.conda\u001b[0;34m(self, line)\u001b[0m\n\u001b[1;32m     81\u001b[0m \u001b[39m\u001b[39m\u001b[39m\"\"\"Run the conda package manager within the current kernel.\u001b[39;00m\n\u001b[1;32m     82\u001b[0m \n\u001b[1;32m     83\u001b[0m \u001b[39mUsage:\u001b[39;00m\n\u001b[1;32m     84\u001b[0m \u001b[39m  %conda install [pkgs]\u001b[39;00m\n\u001b[1;32m     85\u001b[0m \u001b[39m\"\"\"\u001b[39;00m\n\u001b[1;32m     86\u001b[0m \u001b[39mif\u001b[39;00m \u001b[39mnot\u001b[39;00m _is_conda_environment():\n\u001b[0;32m---> 87\u001b[0m     \u001b[39mraise\u001b[39;00m \u001b[39mValueError\u001b[39;00m(\u001b[39m\"\u001b[39m\u001b[39mThe python kernel does not appear to be a conda environment.  \u001b[39m\u001b[39m\"\u001b[39m\n\u001b[1;32m     88\u001b[0m                      \u001b[39m\"\u001b[39m\u001b[39mPlease use ``\u001b[39m\u001b[39m%\u001b[39m\u001b[39mpip install`` instead.\u001b[39m\u001b[39m\"\u001b[39m)\n\u001b[1;32m     90\u001b[0m conda \u001b[39m=\u001b[39m _get_conda_executable()\n\u001b[1;32m     91\u001b[0m args \u001b[39m=\u001b[39m shlex\u001b[39m.\u001b[39msplit(line)\n",
      "\u001b[0;31mValueError\u001b[0m: The python kernel does not appear to be a conda environment.  Please use ``%pip install`` instead."
     ]
    }
   ],
   "source": [
    "conda env list"
   ]
  },
  {
   "cell_type": "code",
   "execution_count": null,
   "metadata": {},
   "outputs": [],
   "source": []
  }
 ],
 "metadata": {
  "kernelspec": {
   "display_name": "tnps",
   "language": "python",
   "name": "python3"
  },
  "language_info": {
   "codemirror_mode": {
    "name": "ipython",
    "version": 3
   },
   "file_extension": ".py",
   "mimetype": "text/x-python",
   "name": "python",
   "nbconvert_exporter": "python",
   "pygments_lexer": "ipython3",
   "version": "3.11.4"
  },
  "orig_nbformat": 4
 },
 "nbformat": 4,
 "nbformat_minor": 2
}
