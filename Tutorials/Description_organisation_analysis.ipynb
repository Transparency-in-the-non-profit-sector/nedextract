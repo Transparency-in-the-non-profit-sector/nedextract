{
 "cells": [
  {
   "cell_type": "markdown",
   "metadata": {},
   "source": [
    "# Description on organisation extraction and analysis\n",
    "\n",
    "In this tutorial the general functionality of the organisation extraction is outlined."
   ]
  },
  {
   "cell_type": "markdown",
   "metadata": {},
   "source": [
    "The `extract_related_orgs.collect_orgs`, function extracts mentioned organisations (ORGs) in a given text using Stanza NER.\n",
    "Candidates are select candidates by applying NER to different preprocessing choices. Next,\n",
    "additional checks are performed using the `extract_related_orgs.decide_org` function and its `utils.orgs_checks` functions to determine which candidates are most likely true orgs.\n",
    "\n",
    "Potential organisations are collected from the text using NER after each of three different kind of preprocessing steps, each taking different decisions for consequtive blank lines, end of line characters, and replacement options for parantheses.\n",
    "\n",
    "The descision tree to determine if a potential organisation is considered a true organisation is as based on:\n",
    "- the overall number of mentions of the pot. org in the text,\n",
    "- the percentage of mentions in which it was actually considered an ORG by Stanza,\n",
    "- whether a standalone pot. org is considered an ORG by Stanza,\n",
    "- the precense of keywords that make it likely that the pot. org is an org,\n",
    "- the precense of keywords that make it likely that the pot. org is NOT an org."
   ]
  },
  {
   "cell_type": "markdown",
   "metadata": {},
   "source": [
    "Various of the `utils.org_checks` functions can be useful to other type information extfarction purposes. Some of the functions are outlined below."
   ]
  },
  {
   "cell_type": "markdown",
   "metadata": {},
   "source": [
    "- `utils.keyword_check`<br>\n",
    "This function checks if a given term contains either a keyword that indicates that it is likely an organisation, or is likely NOT an organisation. The true and false keywords are defined in `utils.keywords.Org_Keywords` class."
   ]
  },
  {
   "cell_type": "markdown",
   "metadata": {},
   "source": [
    "- `part_of_other`<br>\n",
    "This function checks if any orginasation, <i>o</i>, in a given list of organisations, is part of the input <i>organisation</i>. If there is an <i>o</i> that matches with the input <i>organisation</i>, and the matching <i>o</i> has enough characters, is common enough in the analysed test, and it is not the cases that the only difference is the presence of a keyword org, the function returns True."
   ]
  },
  {
   "cell_type": "markdown",
   "metadata": {},
   "source": [
    "- `percentage_considered_org`<br>\n",
    "For a given org, it determines the percentage of mentions of that org in the text, for which NER considered it a orgnisation."
   ]
  },
  {
   "cell_type": "markdown",
   "metadata": {},
   "source": [
    "- `strip_function_of_entity`<br>\n",
    "Based on the list of job positions defined in `utils.keywords.Org_Keywords.position`, this function checks if any job positions are (likely wrongly) included in the identied organisation, and removes it from the term"
   ]
  }
 ],
 "metadata": {
  "kernelspec": {
   "display_name": "tnps",
   "language": "python",
   "name": "python3"
  },
  "language_info": {
   "codemirror_mode": {
    "name": "ipython",
    "version": 3
   },
   "file_extension": ".py",
   "mimetype": "text/x-python",
   "name": "python",
   "nbconvert_exporter": "python",
   "pygments_lexer": "ipython3",
   "version": "3.11.4"
  },
  "orig_nbformat": 4
 },
 "nbformat": 4,
 "nbformat_minor": 2
}
